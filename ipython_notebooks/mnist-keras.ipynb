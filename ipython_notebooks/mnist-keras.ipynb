{
 "cells": [
  {
   "cell_type": "code",
   "execution_count": 209,
   "metadata": {},
   "outputs": [
    {
     "name": "stdout",
     "output_type": "stream",
     "text": [
      "Populating the interactive namespace from numpy and matplotlib\n"
     ]
    }
   ],
   "source": [
    "%pylab inline --no-import-all\n",
    "import seaborn as sns\n",
    "import scipy as sp\n",
    "import scipy.ndimage\n",
    "import os\n",
    "import keras\n",
    "from keras.models import Sequential\n",
    "from keras.layers import Dense, Dropout, Flatten\n",
    "from keras.layers import Conv2D, MaxPooling2D\n",
    "from keras.optimizers import SGD"
   ]
  },
  {
   "cell_type": "markdown",
   "metadata": {},
   "source": [
    "Downloading MNIST datased"
   ]
  },
  {
   "cell_type": "code",
   "execution_count": 298,
   "metadata": {},
   "outputs": [],
   "source": [
    "import requests\n",
    "import gzip\n",
    "from pathlib import Path\n",
    "\n",
    "urls = [\n",
    "    \"http://yann.lecun.com/exdb/mnist/train-images-idx3-ubyte.gz\",\n",
    "    \"http://yann.lecun.com/exdb/mnist/train-labels-idx1-ubyte.gz\",\n",
    "    \"http://yann.lecun.com/exdb/mnist/t10k-images-idx3-ubyte.gz\",\n",
    "    \"http://yann.lecun.com/exdb/mnist/t10k-labels-idx1-ubyte.gz\"\n",
    "]\n",
    "\n",
    "paths = [\n",
    "    \"/tmp/train_images\",\n",
    "    \"/tmp/train_labels\",\n",
    "    \"/tmp/test_images\",\n",
    "    \"/tmp/test_labels\"\n",
    "]\n",
    "\n",
    "def check_exist(path_to_file):\n",
    "    file = Path(path_to_file)\n",
    "    return file.exists()\n",
    "\n",
    "for path, url in zip(paths, urls):\n",
    "    if not check_exist(path) or not os.path.getsize(path):\n",
    "        print(\"downloading \" + url)\n",
    "        response = requests.get(url)\n",
    "        with open(path, \"wb\") as f:\n",
    "            print(\"writing to\" + path)\n",
    "            f.write(gzip.decompress(response.content))"
   ]
  },
  {
   "cell_type": "markdown",
   "metadata": {},
   "source": [
    "Define some helper functions"
   ]
  },
  {
   "cell_type": "code",
   "execution_count": 286,
   "metadata": {},
   "outputs": [],
   "source": [
    "import os, struct\n",
    "from array import array\n",
    "\n",
    "def read_mnist(digits, fname_img, fname_lbl):\n",
    "    flbl = open(fname_lbl, 'rb')\n",
    "    magic_nr, size = struct.unpack(\">II\", flbl.read(8))\n",
    "    lbl = array(\"b\", flbl.read())\n",
    "    flbl.close()\n",
    "\n",
    "    fimg = open(fname_img, 'rb')\n",
    "    magic_nr, size, rows, cols = struct.unpack(\">IIII\", fimg.read(16))\n",
    "    img = array(\"B\", fimg.read())\n",
    "    fimg.close()\n",
    "\n",
    "    ind = [ k for k in range(size) if lbl[k] in digits ]\n",
    "    images =  np.zeros((len(ind), rows*cols))\n",
    "    labels = np.zeros((len(ind), 1))\n",
    "    for i in range(len(ind)):\n",
    "        images[i, :] = list(img[ ind[i]*rows*cols : (ind[i]+1)*rows*cols ])\n",
    "        labels[i] = lbl[ind[i]]\n",
    "\n",
    "    return images, labels\n",
    "\n",
    "\n",
    "def decode_one_hot(encoded):\n",
    "    return np.apply_along_axis(np.argmax, axis=1, arr=encoded)\n",
    "\n",
    "def evaluate_accuracy(predicted, expected): \n",
    "    return (\"model accuracy on test data: {:.3f}%\"\n",
    "            .format(100 * (1.0 - (predicted != expected).sum() / expected.shape[0])) )"
   ]
  },
  {
   "cell_type": "markdown",
   "metadata": {},
   "source": [
    "Read MNIST dataset and convert result to numpy arrays"
   ]
  },
  {
   "cell_type": "code",
   "execution_count": 152,
   "metadata": {},
   "outputs": [],
   "source": [
    "train_images, train_labels = read_mnist(list(range(0, 10)), paths[0], paths[1])\n",
    "test_images, test_labels = read_mnist(list(range(0, 10)), paths[2], paths[3])\n",
    "images = np.vstack((train_images, test_images))  # put it together for similar filtering\n",
    "labels = np.vstack((train_labels, test_labels))"
   ]
  },
  {
   "cell_type": "markdown",
   "metadata": {},
   "source": [
    "Split data to train and test sets"
   ]
  },
  {
   "cell_type": "code",
   "execution_count": 266,
   "metadata": {},
   "outputs": [],
   "source": [
    "trainX, testX = np.split(clean_images, [60000])\n",
    "trainY, testY = np.split(labels.astype(int), [60000])\n",
    "trainY = keras.utils.to_categorical(trainY, num_classes=10)"
   ]
  },
  {
   "cell_type": "markdown",
   "metadata": {},
   "source": [
    "First let's create multiple layer perceptron"
   ]
  },
  {
   "cell_type": "code",
   "execution_count": 372,
   "metadata": {},
   "outputs": [],
   "source": [
    "mlp_model = Sequential([\n",
    "    Dense(128, input_shape=(784,)),\n",
    "    Activation('relu'),\n",
    "    Dropout(0.125),\n",
    "    Dense(64),\n",
    "    Activation('relu'),\n",
    "    Dense(10),\n",
    "    Activation('softmax'),\n",
    "])\n",
    "\n",
    "mlp_model.compile(optimizer='rmsprop',\n",
    "              loss='categorical_crossentropy',\n",
    "              metrics=['accuracy'])"
   ]
  },
  {
   "cell_type": "markdown",
   "metadata": {},
   "source": [
    "Training the model"
   ]
  },
  {
   "cell_type": "code",
   "execution_count": 373,
   "metadata": {},
   "outputs": [
    {
     "name": "stdout",
     "output_type": "stream",
     "text": [
      "Epoch 1/10\n",
      "60000/60000 [==============================] - 5s - loss: 0.3082 - acc: 0.9095     \n",
      "Epoch 2/10\n",
      "60000/60000 [==============================] - 4s - loss: 0.1544 - acc: 0.9540     \n",
      "Epoch 3/10\n",
      "60000/60000 [==============================] - 4s - loss: 0.1215 - acc: 0.9644     \n",
      "Epoch 4/10\n",
      "60000/60000 [==============================] - 4s - loss: 0.1032 - acc: 0.9706     \n",
      "Epoch 5/10\n",
      "60000/60000 [==============================] - 5s - loss: 0.0898 - acc: 0.9747     \n",
      "Epoch 6/10\n",
      "60000/60000 [==============================] - 4s - loss: 0.0853 - acc: 0.9775     \n",
      "Epoch 7/10\n",
      "60000/60000 [==============================] - 4s - loss: 0.0755 - acc: 0.9794     \n",
      "Epoch 8/10\n",
      "60000/60000 [==============================] - 4s - loss: 0.0724 - acc: 0.9811     \n",
      "Epoch 9/10\n",
      "60000/60000 [==============================] - 4s - loss: 0.0647 - acc: 0.9831     \n",
      "Epoch 10/10\n",
      "60000/60000 [==============================] - 4s - loss: 0.0618 - acc: 0.9840     \n"
     ]
    },
    {
     "data": {
      "text/plain": [
       "<keras.callbacks.History at 0x7f49266bf0f0>"
      ]
     },
     "execution_count": 373,
     "metadata": {},
     "output_type": "execute_result"
    }
   ],
   "source": [
    "mlp_model.fit(trainX, trainY, epochs=10, batch_size=30)"
   ]
  },
  {
   "cell_type": "markdown",
   "metadata": {},
   "source": [
    "Predict output values for test samples and evaluate model accuracy"
   ]
  },
  {
   "cell_type": "code",
   "execution_count": 375,
   "metadata": {},
   "outputs": [
    {
     "name": "stdout",
     "output_type": "stream",
     "text": [
      "model accuracy on test data: 97.020%\n"
     ]
    }
   ],
   "source": [
    "mlp_predictions = mlp_model.predict(testX)\n",
    "\n",
    "decoded_mlp_predictions = decode_one_hot(mlp_predictions)\n",
    "expected = testY.reshape(testY.shape[0])\n",
    "\n",
    "print(evaluate_accuracy(decoded_mlp_predictions, expected))"
   ]
  },
  {
   "cell_type": "markdown",
   "metadata": {},
   "source": [
    "Now let's see how frequently certain digits were not recognized and what's was recognized instead "
   ]
  },
  {
   "cell_type": "code",
   "execution_count": 362,
   "metadata": {},
   "outputs": [],
   "source": [
    "import matplotlib.patches as mpatches\n",
    "\n",
    "def error_plot(predictions, true):\n",
    "    def what_is_predicted(predictions, instead_of):\n",
    "        return predictions[np.all(\n",
    "            (predictions != true, true == instead_of),\n",
    "            axis=0)]\n",
    "\n",
    "    fig, ax = plt.subplots(figsize=(14, 10), dpi=80)\n",
    "    colors = [\n",
    "        \"#B76C6C\",\n",
    "        \"#B78B6C\",\n",
    "        \"#B3B76C\",\n",
    "        \"#90B76C\",\n",
    "        \"#6CB77E\",\n",
    "        \"#6CB7B2\",\n",
    "        \"#6C96B7\",\n",
    "        \"#6C76B7\",\n",
    "        \"#906CB7\",\n",
    "        \"#B76CB5\"\n",
    "    ]\n",
    "    plt.xticks(np.arange(10), size=16)\n",
    "    plt.xlabel(\"What should be\", size=20)\n",
    "    plt.ylabel(\"Wrong predictions\", size=20)\n",
    "\n",
    "\n",
    "    wrong_numbers = [np.bincount(what_is_predicted(predictions, i)) for i in range(0, 10)]\n",
    "    result = []\n",
    "    for i, num in enumerate(wrong_numbers):\n",
    "        bottom = 0\n",
    "        for j, error in enumerate(num):\n",
    "            if error:\n",
    "                result.append(ax.bar(i, error, bottom=bottom, color=colors[j]))       \n",
    "                ax.text(i, bottom + error*0.5 - 0.1, j,\n",
    "                        verticalalignment='center',\n",
    "                        horizontalalignment='center',\n",
    "                        size=10, weight='bold')\n",
    "\n",
    "                bottom += error\n",
    "\n",
    "    ax.legend(handles = [mpatches.Patch(color=colors[i], label=i) for i in reversed(range(10))])"
   ]
  },
  {
   "cell_type": "code",
   "execution_count": 363,
   "metadata": {
    "scrolled": false
   },
   "outputs": [
    {
     "data": {
      "image/png": "[encoded data removed]",
      "text/plain": [
       "<matplotlib.figure.Figure at 0x7f4927664748>"
      ]
     },
     "metadata": {},
     "output_type": "display_data"
    }
   ],
   "source": [
    "error_plot(decoded_mlp_predictions, expected)"
   ]
  },
  {
   "cell_type": "markdown",
   "metadata": {},
   "source": [
    "Now we're going to create more complex network, with two convolution layers"
   ]
  },
  {
   "cell_type": "code",
   "execution_count": 386,
   "metadata": {},
   "outputs": [],
   "source": [
    "cnn_model = Sequential([\n",
    "    # input shape is (28, 28, 1), i.e. 28x28 pixels image with 1 color chanel (grayscale)\n",
    "    Conv2D(32, (5, 5), activation='relu', input_shape=(28, 28, 1)),\n",
    "    MaxPooling2D(pool_size=(2, 2)),\n",
    "    Dropout(0.25),\n",
    "\n",
    "    Conv2D(64, (3, 3), activation='relu'),\n",
    "    MaxPooling2D(pool_size=(2, 2)),\n",
    "    Dropout(0.125),\n",
    "\n",
    "    Flatten(),\n",
    "    Dense(128, activation='relu'),\n",
    "    Dropout(0.5),\n",
    "    Dense(10, activation='softmax')\n",
    "])\n",
    "\n",
    "sgd = SGD(lr=0.01, decay=1e-6, momentum=0.9, nesterov=True)\n",
    "cnn_model.compile(loss='categorical_crossentropy', optimizer='sgd', metrics=['accuracy'])"
   ]
  },
  {
   "cell_type": "markdown",
   "metadata": {},
   "source": [
    "In order to apply 2D convolution, we have to convert our train samples into (28, 28, 1) tensors"
   ]
  },
  {
   "cell_type": "code",
   "execution_count": 387,
   "metadata": {
    "collapsed": true
   },
   "outputs": [],
   "source": [
    "cnnTrainX = trainX.reshape(trainX.shape[0], 28, 28, 1)\n",
    "cnnTestX = testX.reshape(testX.shape[0], 28, 28, 1)"
   ]
  },
  {
   "cell_type": "code",
   "execution_count": 389,
   "metadata": {},
   "outputs": [
    {
     "name": "stdout",
     "output_type": "stream",
     "text": [
      "Epoch 1/10\n",
      "60000/60000 [==============================] - 37s - loss: 0.4027 - acc: 0.8733    \n",
      "Epoch 2/10\n",
      "60000/60000 [==============================] - 38s - loss: 0.2376 - acc: 0.9285    \n",
      "Epoch 3/10\n",
      "60000/60000 [==============================] - 37s - loss: 0.1844 - acc: 0.9448    \n",
      "Epoch 4/10\n",
      "60000/60000 [==============================] - 37s - loss: 0.1566 - acc: 0.9530    \n",
      "Epoch 5/10\n",
      "60000/60000 [==============================] - 37s - loss: 0.1416 - acc: 0.9568    \n",
      "Epoch 6/10\n",
      "60000/60000 [==============================] - 38s - loss: 0.1253 - acc: 0.9615    \n",
      "Epoch 7/10\n",
      "60000/60000 [==============================] - 37s - loss: 0.1175 - acc: 0.9648    \n",
      "Epoch 8/10\n",
      "60000/60000 [==============================] - 37s - loss: 0.1134 - acc: 0.9659    \n",
      "Epoch 9/10\n",
      "60000/60000 [==============================] - 37s - loss: 0.1037 - acc: 0.9693    \n",
      "Epoch 10/10\n",
      "60000/60000 [==============================] - 37s - loss: 0.0996 - acc: 0.9699    \n"
     ]
    },
    {
     "data": {
      "text/plain": [
       "<keras.callbacks.History at 0x7f4925603080>"
      ]
     },
     "execution_count": 389,
     "metadata": {},
     "output_type": "execute_result"
    }
   ],
   "source": [
    "cnn_model.fit(cnnTrainX, trainY, batch_size=30, epochs=10)"
   ]
  },
  {
   "cell_type": "markdown",
   "metadata": {},
   "source": [
    "Evaluating on test data"
   ]
  },
  {
   "cell_type": "code",
   "execution_count": 390,
   "metadata": {},
   "outputs": [
    {
     "name": "stdout",
     "output_type": "stream",
     "text": [
      "model accuracy on test data: 98.390%\n"
     ]
    }
   ],
   "source": [
    "cnn_predictions = cnn_model.predict(cnnTestX)\n",
    "\n",
    "decoded_cnn_predictions = decode_one_hot(cnn_predictions)\n",
    "expected = testY.reshape(testY.shape[0])\n",
    "\n",
    "print(evaluate_accuracy(decoded_cnn_predictions, expected))"
   ]
  },
  {
   "cell_type": "code",
   "execution_count": 391,
   "metadata": {},
   "outputs": [
    {
     "data": {
      "image/png": "[encoded data removed]",
      "text/plain": [
       "<matplotlib.figure.Figure at 0x7f49256bedd8>"
      ]
     },
     "metadata": {},
     "output_type": "display_data"
    }
   ],
   "source": [
    "error_plot(decoded_cnn_predictions, expected)"
   ]
  }
 ],
 "metadata": {
  "kernelspec": {
   "display_name": "Python [default]",
   "language": "python",
   "name": "python3"
  },
  "language_info": {
   "codemirror_mode": {
    "name": "ipython",
    "version": 3
   },
   "file_extension": ".py",
   "mimetype": "text/x-python",
   "name": "python",
   "nbconvert_exporter": "python",
   "pygments_lexer": "ipython3",
   "version": "3.5.3"
  }
 },
 "nbformat": 4,
 "nbformat_minor": 2
}
