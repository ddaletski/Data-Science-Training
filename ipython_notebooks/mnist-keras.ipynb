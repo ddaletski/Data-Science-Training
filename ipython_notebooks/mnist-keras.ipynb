{
 "cells": [
  {
   "cell_type": "code",
   "execution_count": 2,
   "metadata": {},
   "outputs": [
    {
     "name": "stdout",
     "output_type": "stream",
     "text": [
      "Populating the interactive namespace from numpy and matplotlib\n"
     ]
    }
   ],
   "source": [
    "%pylab inline --no-import-all\n",
    "import seaborn as sns\n",
    "import scipy as sp\n",
    "import scipy.ndimage\n",
    "import os\n",
    "import keras\n",
    "from keras.models import Sequential\n",
    "from keras.layers import Dense, Dropout, Flatten, Activation\n",
    "from keras.layers import Conv2D, MaxPooling2D\n",
    "from keras.optimizers import SGD\n",
    "from keras.datasets import mnist"
   ]
  },
  {
   "cell_type": "markdown",
   "metadata": {},
   "source": [
    "Load MNIST dataset and convert result to numpy arrays"
   ]
  },
  {
   "cell_type": "code",
   "execution_count": 70,
   "metadata": {
    "collapsed": true
   },
   "outputs": [],
   "source": [
    "(trainX, trainY), (testX, testY) = mnist.load_data()\n",
    "train_samples = trainX.shape[0]\n",
    "test_samples = testX.shape[0]\n",
    "\n",
    "trainX = trainX.reshape((train_samples, 28*28)) / 255.0\n",
    "testX = testX.reshape((test_samples, 28*28)) / 255.0\n",
    "trainY = keras.utils.to_categorical(trainY, num_classes=10)"
   ]
  },
  {
   "cell_type": "markdown",
   "metadata": {},
   "source": [
    "First let's create multiple layer perceptron"
   ]
  },
  {
   "cell_type": "code",
   "execution_count": 78,
   "metadata": {
    "collapsed": true
   },
   "outputs": [],
   "source": [
    "mlp_model = Sequential([\n",
    "    Dense(64, input_shape=(784,), kernel_initializer='random_uniform'),\n",
    "    Activation('relu'),\n",
    "    Dropout(0.125),\n",
    "    Dense(64, kernel_initializer='random_uniform'),\n",
    "    Activation('relu'),\n",
    "    Dense(10, kernel_initializer='random_uniform'),\n",
    "    Activation('softmax'),\n",
    "])\n",
    "\n",
    "mlp_model.compile(optimizer='adam',\n",
    "              loss='categorical_crossentropy',\n",
    "              metrics=['accuracy'])"
   ]
  },
  {
   "cell_type": "markdown",
   "metadata": {},
   "source": [
    "Training the model"
   ]
  },
  {
   "cell_type": "code",
   "execution_count": 79,
   "metadata": {},
   "outputs": [
    {
     "name": "stdout",
     "output_type": "stream",
     "text": [
      "Epoch 1/10\n",
      "60000/60000 [==============================] - 3s - loss: 0.4456 - acc: 0.8670     \n",
      "Epoch 2/10\n",
      "60000/60000 [==============================] - 2s - loss: 0.2003 - acc: 0.9395     \n",
      "Epoch 3/10\n",
      "60000/60000 [==============================] - 2s - loss: 0.1499 - acc: 0.9542     \n",
      "Epoch 4/10\n",
      "60000/60000 [==============================] - 2s - loss: 0.1255 - acc: 0.9617     \n",
      "Epoch 5/10\n",
      "60000/60000 [==============================] - 2s - loss: 0.1101 - acc: 0.9658     \n",
      "Epoch 6/10\n",
      "60000/60000 [==============================] - 2s - loss: 0.0974 - acc: 0.9691     \n",
      "Epoch 7/10\n",
      "60000/60000 [==============================] - 2s - loss: 0.0885 - acc: 0.9719     \n",
      "Epoch 8/10\n",
      "60000/60000 [==============================] - 2s - loss: 0.0825 - acc: 0.9728     \n",
      "Epoch 9/10\n",
      "60000/60000 [==============================] - 2s - loss: 0.0768 - acc: 0.9753     \n",
      "Epoch 10/10\n",
      "60000/60000 [==============================] - 2s - loss: 0.0722 - acc: 0.9770     \n"
     ]
    },
    {
     "data": {
      "text/plain": [
       "<keras.callbacks.History at 0x7fb80c581f98>"
      ]
     },
     "execution_count": 79,
     "metadata": {},
     "output_type": "execute_result"
    }
   ],
   "source": [
    "mlp_model.fit(trainX, trainY, epochs=10, batch_size=50)"
   ]
  },
  {
   "cell_type": "markdown",
   "metadata": {},
   "source": [
    "Define some helper functions"
   ]
  },
  {
   "cell_type": "code",
   "execution_count": 80,
   "metadata": {
    "collapsed": true
   },
   "outputs": [],
   "source": [
    "def decode_one_hot(encoded):\n",
    "    return np.apply_along_axis(np.argmax, axis=1, arr=encoded)\n",
    "\n",
    "def evaluate_accuracy(predicted, expected): \n",
    "    return (\"model accuracy on test data: {:.3f}%\"\n",
    "            .format(100 * (1.0 - (predicted != expected).sum() / expected.shape[0])) )"
   ]
  },
  {
   "cell_type": "markdown",
   "metadata": {},
   "source": [
    "Predict output values for test samples and evaluate model accuracy"
   ]
  },
  {
   "cell_type": "code",
   "execution_count": 81,
   "metadata": {},
   "outputs": [
    {
     "name": "stdout",
     "output_type": "stream",
     "text": [
      "model accuracy on test data: 97.490%\n"
     ]
    }
   ],
   "source": [
    "mlp_predictions = mlp_model.predict(testX)\n",
    "\n",
    "decoded_mlp_predictions = decode_one_hot(mlp_predictions)\n",
    "expected = testY.reshape(test_samples)\n",
    "\n",
    "print(evaluate_accuracy(decoded_mlp_predictions, expected))"
   ]
  },
  {
   "cell_type": "markdown",
   "metadata": {},
   "source": [
    "Test error is almost equal, so this means that there's no overfitting.\n",
    "Although 97.5% is not accurate enough, but isn't so bad for the first time"
   ]
  },
  {
   "cell_type": "markdown",
   "metadata": {},
   "source": [
    "Now let's see how frequently certain digits were not recognized and what's was recognized instead "
   ]
  },
  {
   "cell_type": "code",
   "execution_count": 82,
   "metadata": {
    "collapsed": true
   },
   "outputs": [],
   "source": [
    "import matplotlib.patches as mpatches\n",
    "\n",
    "def error_plot(predictions, true):\n",
    "    def what_is_predicted(predictions, instead_of):\n",
    "        return predictions[np.all(\n",
    "            (predictions != true, true == instead_of),\n",
    "            axis=0)]\n",
    "\n",
    "    fig, ax = plt.subplots(figsize=(14, 10), dpi=80)\n",
    "    colors = [\n",
    "        \"#B76C6C\",\n",
    "        \"#B78B6C\",\n",
    "        \"#B3B76C\",\n",
    "        \"#90B76C\",\n",
    "        \"#6CB77E\",\n",
    "        \"#6CB7B2\",\n",
    "        \"#6C96B7\",\n",
    "        \"#6C76B7\",\n",
    "        \"#906CB7\",\n",
    "        \"#B76CB5\"\n",
    "    ]\n",
    "    plt.xticks(np.arange(10), size=16)\n",
    "    plt.xlabel(\"What should be\", size=20)\n",
    "    plt.ylabel(\"Wrong predictions\", size=20)\n",
    "\n",
    "\n",
    "    wrong_numbers = [np.bincount(what_is_predicted(predictions, i)) for i in range(0, 10)]\n",
    "    result = []\n",
    "    for i, num in enumerate(wrong_numbers):\n",
    "        bottom = 0\n",
    "        for j, error in enumerate(num):\n",
    "            if error:\n",
    "                result.append(ax.bar(i, error, bottom=bottom, color=colors[j]))       \n",
    "                ax.text(i, bottom + error*0.5 - 0.1, j,\n",
    "                        verticalalignment='center',\n",
    "                        horizontalalignment='center',\n",
    "                        size=10, weight='bold')\n",
    "\n",
    "                bottom += error\n",
    "\n",
    "    ax.legend(handles = [mpatches.Patch(color=colors[i], label=i) for i in reversed(range(10))])"
   ]
  },
  {
   "cell_type": "code",
   "execution_count": 83,
   "metadata": {
    "scrolled": false
   },
   "outputs": [
    {
     "data": {
      "image/png": "[encoded data removed]",
      "text/plain": [
       "<matplotlib.figure.Figure at 0x7fb80cc2ba90>"
      ]
     },
     "metadata": {},
     "output_type": "display_data"
    }
   ],
   "source": [
    "error_plot(decoded_mlp_predictions, expected)"
   ]
  },
  {
   "cell_type": "markdown",
   "metadata": {},
   "source": [
    "From this chart we can see, that the most frequent errors are:\n",
    "<ul>\n",
    "<li>9 instead of 4</li>\n",
    "<li>3 instead of 5</li>\n",
    "</ul>"
   ]
  },
  {
   "cell_type": "markdown",
   "metadata": {},
   "source": [
    "Now we're going to create more complex network, with two convolution layers. Convolution neural networks are slower, but are much more efficient on image recognition"
   ]
  },
  {
   "cell_type": "code",
   "execution_count": 84,
   "metadata": {},
   "outputs": [],
   "source": [
    "cnn_model = Sequential([\n",
    "    # input shape is (28, 28, 1), i.e. 28x28 pixels image with 1 color chanel (grayscale)\n",
    "    \n",
    "    # first convolution layer with 3x3 filters for extracting micro features\n",
    "    Conv2D(64, (3, 3), activation='relu', input_shape=(28, 28, 1)),\n",
    "    MaxPooling2D(pool_size=(2, 2)),\n",
    "    Dropout(0.05),\n",
    "    \n",
    "    # second convolution layer with 5x5 filters for extracting macro features\n",
    "    Conv2D(128, (3, 3), activation='relu', strides=(2,2)),\n",
    "    MaxPooling2D(pool_size=(2, 2)),\n",
    "    Dropout(0.1),\n",
    "    \n",
    "    Flatten(),\n",
    "    Dense(128, activation='relu', kernel_initializer='random_uniform'),\n",
    "    Dropout(0.5),\n",
    "    Dense(10, activation='softmax', kernel_initializer='random_uniform')\n",
    "])\n",
    "\n",
    "cnn_model.compile(loss='categorical_crossentropy', optimizer='adam', metrics=['accuracy'])"
   ]
  },
  {
   "cell_type": "markdown",
   "metadata": {},
   "source": [
    "In order to apply 2D convolution, we have to convert our train samples into (28, 28, 1) tensors"
   ]
  },
  {
   "cell_type": "code",
   "execution_count": 85,
   "metadata": {
    "collapsed": true
   },
   "outputs": [],
   "source": [
    "cnnTrainX = trainX.reshape(train_samples, 28, 28, 1)\n",
    "cnnTestX = testX.reshape(test_samples, 28, 28, 1)"
   ]
  },
  {
   "cell_type": "code",
   "execution_count": 86,
   "metadata": {
    "scrolled": true
   },
   "outputs": [
    {
     "name": "stdout",
     "output_type": "stream",
     "text": [
      "Epoch 1/10\n",
      "60000/60000 [==============================] - 54s - loss: 0.3270 - acc: 0.8968    \n",
      "Epoch 2/10\n",
      "60000/60000 [==============================] - 55s - loss: 0.1250 - acc: 0.9623    \n",
      "Epoch 3/10\n",
      "60000/60000 [==============================] - 54s - loss: 0.0956 - acc: 0.9705    \n",
      "Epoch 4/10\n",
      "60000/60000 [==============================] - 51s - loss: 0.0764 - acc: 0.9772    \n",
      "Epoch 5/10\n",
      "60000/60000 [==============================] - 50s - loss: 0.0673 - acc: 0.9797    \n",
      "Epoch 6/10\n",
      "60000/60000 [==============================] - 52s - loss: 0.0578 - acc: 0.9825    \n",
      "Epoch 7/10\n",
      "60000/60000 [==============================] - 51s - loss: 0.0518 - acc: 0.9837    \n",
      "Epoch 8/10\n",
      "60000/60000 [==============================] - 50s - loss: 0.0477 - acc: 0.9852    \n",
      "Epoch 9/10\n",
      "60000/60000 [==============================] - 50s - loss: 0.0445 - acc: 0.9863    \n",
      "Epoch 10/10\n",
      "60000/60000 [==============================] - 50s - loss: 0.0396 - acc: 0.9873    \n"
     ]
    },
    {
     "data": {
      "text/plain": [
       "<keras.callbacks.History at 0x7fb80fd1e7b8>"
      ]
     },
     "execution_count": 86,
     "metadata": {},
     "output_type": "execute_result"
    }
   ],
   "source": [
    "cnn_model.fit(cnnTrainX, trainY, batch_size=50, epochs=10)"
   ]
  },
  {
   "cell_type": "markdown",
   "metadata": {},
   "source": [
    "Evaluating on test data"
   ]
  },
  {
   "cell_type": "code",
   "execution_count": 87,
   "metadata": {},
   "outputs": [
    {
     "name": "stdout",
     "output_type": "stream",
     "text": [
      "model accuracy on test data: 99.140%\n"
     ]
    }
   ],
   "source": [
    "cnn_predictions = cnn_model.predict(cnnTestX)\n",
    "\n",
    "decoded_cnn_predictions = decode_one_hot(cnn_predictions)\n",
    "expected = testY.reshape(testY.shape[0])\n",
    "\n",
    "print(evaluate_accuracy(decoded_cnn_predictions, expected))"
   ]
  },
  {
   "cell_type": "markdown",
   "metadata": {},
   "source": [
    "99.14% is significantly better result. It could come from CNN's ability to recognize spatial structure of images"
   ]
  },
  {
   "cell_type": "markdown",
   "metadata": {},
   "source": [
    "Let's take a look at errors details"
   ]
  },
  {
   "cell_type": "code",
   "execution_count": 88,
   "metadata": {},
   "outputs": [
    {
     "data": {
      "image/png": "[encoded data removed]",
      "text/plain": [
       "<matplotlib.figure.Figure at 0x7fb80d0a00b8>"
      ]
     },
     "metadata": {},
     "output_type": "display_data"
    }
   ],
   "source": [
    "error_plot(decoded_cnn_predictions, expected)"
   ]
  },
  {
   "cell_type": "markdown",
   "metadata": {},
   "source": [
    "Typical errors are:\n",
    "* 5 instead of 3\n",
    "* 9 instead of 4\n",
    "* 4 and 5instead of 9"
   ]
  }
 ],
 "metadata": {
  "anaconda-cloud": {},
  "kernelspec": {
   "display_name": "Python [default]",
   "language": "python",
   "name": "python3"
  },
  "language_info": {
   "codemirror_mode": {
    "name": "ipython",
    "version": 3
   },
   "file_extension": ".py",
   "mimetype": "text/x-python",
   "name": "python",
   "nbconvert_exporter": "python",
   "pygments_lexer": "ipython3",
   "version": "3.5.3"
  }
 },
 "nbformat": 4,
 "nbformat_minor": 2
}
