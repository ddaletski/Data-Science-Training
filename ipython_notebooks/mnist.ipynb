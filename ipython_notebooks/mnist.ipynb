{
 "cells": [
  {
   "cell_type": "code",
   "execution_count": 255,
   "metadata": {
    "collapsed": false
   },
   "outputs": [
    {
     "name": "stdout",
     "output_type": "stream",
     "text": [
      "Populating the interactive namespace from numpy and matplotlib\n"
     ]
    }
   ],
   "source": [
    "%pylab inline --no-import-all\n",
    "import seaborn as sns\n",
    "from sklearn.neural_network import MLPClassifier"
   ]
  },
  {
   "cell_type": "markdown",
   "metadata": {},
   "source": [
    "Downloading MNIST datased.\n",
    "\n",
    "**P.S.: it takes about 2MB, so don't recall this can take some time**"
   ]
  },
  {
   "cell_type": "code",
   "execution_count": 179,
   "metadata": {
    "collapsed": false
   },
   "outputs": [],
   "source": [
    "import requests\n",
    "import gzip\n",
    "images_r = requests.get('http://yann.lecun.com/exdb/mnist/t10k-images-idx3-ubyte.gz')\n",
    "labels_r = requests.get('http://yann.lecun.com/exdb/mnist/t10k-labels-idx1-ubyte.gz')\n",
    "\n",
    "with open(\"/tmp/images\", \"wb\") as f:\n",
    "    f.write(gzip.decompress(images_r.content))\n",
    "with open(\"/tmp/labels\", \"wb\") as f:\n",
    "    f.write(gzip.decompress(labels_r.content))"
   ]
  },
  {
   "cell_type": "code",
   "execution_count": 180,
   "metadata": {
    "collapsed": false
   },
   "outputs": [],
   "source": [
    "# this code is stealed from Internet and somewhat modifyed\n",
    "import os, struct\n",
    "from array import array\n",
    "from cvxopt.base import matrix\n",
    "\n",
    "def read_mnist(digits, fname_img, fname_lbl):\n",
    "    \"\"\"\n",
    "    Python function for importing the MNIST data set.\n",
    "    \"\"\"\n",
    "\n",
    "    flbl = open(fname_lbl, 'rb')\n",
    "    magic_nr, size = struct.unpack(\">II\", flbl.read(8))\n",
    "    lbl = array(\"b\", flbl.read())\n",
    "    flbl.close()\n",
    "\n",
    "    fimg = open(fname_img, 'rb')\n",
    "    magic_nr, size, rows, cols = struct.unpack(\">IIII\", fimg.read(16))\n",
    "    img = array(\"B\", fimg.read())\n",
    "    fimg.close()\n",
    "\n",
    "    ind = [ k for k in range(size) if lbl[k] in digits ]\n",
    "    images =  matrix(0, (len(ind), rows*cols))\n",
    "    labels = matrix(0, (len(ind), 1))\n",
    "    for i in range(len(ind)):\n",
    "        images[i, :] = list(img[ ind[i]*rows*cols : (ind[i]+1)*rows*cols ])\n",
    "        labels[i] = lbl[ind[i]]\n",
    "\n",
    "    return images, labels"
   ]
  },
  {
   "cell_type": "markdown",
   "metadata": {},
   "source": [
    "Read MNIST dataset and convert result to numpy arrays"
   ]
  },
  {
   "cell_type": "code",
   "execution_count": 182,
   "metadata": {
    "collapsed": false
   },
   "outputs": [],
   "source": [
    "images, labels = read_mnist(list(range(0, 10)), \"/tmp/images\", \"/tmp/labels\")\n",
    "images = np.array(images)\n",
    "labels = np.array(labels)"
   ]
  },
  {
   "cell_type": "markdown",
   "metadata": {},
   "source": [
    "Split data to train and test sets"
   ]
  },
  {
   "cell_type": "code",
   "execution_count": 188,
   "metadata": {
    "collapsed": false
   },
   "outputs": [],
   "source": [
    "trainX, testX = np.split(images, [9000])\n",
    "trainY, testY = np.split(labels, [9000])"
   ]
  },
  {
   "cell_type": "markdown",
   "metadata": {},
   "source": [
    "Create multilayer perceptron classifier"
   ]
  },
  {
   "cell_type": "code",
   "execution_count": 214,
   "metadata": {
    "collapsed": true
   },
   "outputs": [],
   "source": [
    "clf = MLPClassifier(hidden_layer_sizes=(100, 50, 10)) # 3 hidden layers with 100, 50 and 10 neurons respectively"
   ]
  },
  {
   "cell_type": "markdown",
   "metadata": {},
   "source": [
    "Train the classifier"
   ]
  },
  {
   "cell_type": "code",
   "execution_count": 210,
   "metadata": {
    "collapsed": false
   },
   "outputs": [
    {
     "data": {
      "text/plain": [
       "MLPClassifier(activation='relu', alpha=0.0001, batch_size='auto', beta_1=0.9,\n",
       "       beta_2=0.999, early_stopping=False, epsilon=1e-08,\n",
       "       hidden_layer_sizes=(100, 50, 10), learning_rate='constant',\n",
       "       learning_rate_init=0.001, max_iter=200, momentum=0.9,\n",
       "       nesterovs_momentum=True, power_t=0.5, random_state=None,\n",
       "       shuffle=True, solver='adam', tol=0.0001, validation_fraction=0.1,\n",
       "       verbose=False, warm_start=False)"
      ]
     },
     "execution_count": 210,
     "metadata": {},
     "output_type": "execute_result"
    }
   ],
   "source": [
    "clf.fit(trainX, trainY.reshape(trainY.shape[0]))"
   ]
  },
  {
   "cell_type": "markdown",
   "metadata": {},
   "source": [
    "Predict on test set"
   ]
  },
  {
   "cell_type": "code",
   "execution_count": 211,
   "metadata": {
    "collapsed": false
   },
   "outputs": [],
   "source": [
    "predictions = clf.predict(testX)"
   ]
  },
  {
   "cell_type": "markdown",
   "metadata": {},
   "source": [
    "Check predictions accuracy"
   ]
  },
  {
   "cell_type": "code",
   "execution_count": 300,
   "metadata": {
    "collapsed": false
   },
   "outputs": [
    {
     "name": "stdout",
     "output_type": "stream",
     "text": [
      "Accuracy is 91.30%\n"
     ]
    }
   ],
   "source": [
    "print(\"Accuracy is {:.2f}%\".format(100 * np.sum(predictions == testY.reshape(testY.shape[0])) / predictions.shape[0]))"
   ]
  },
  {
   "cell_type": "markdown",
   "metadata": {},
   "source": [
    "Now let's see how frequently certain digits were not recognized and what's was recognized instead "
   ]
  },
  {
   "cell_type": "code",
   "execution_count": 386,
   "metadata": {
    "collapsed": false
   },
   "outputs": [],
   "source": [
    "def what_is_predicted(predictions, instead_of):\n",
    "    return predictions[np.all(\n",
    "        (predictions.reshape(predictions.shape[0], 1) != testY, testY == instead_of),\n",
    "        axis=0).reshape(predictions.shape)]"
   ]
  },
  {
   "cell_type": "code",
   "execution_count": 500,
   "metadata": {
    "collapsed": false
   },
   "outputs": [
    {
     "data": {
      "image/png": "[encoded data removed]",
      "text/plain": [
       "<matplotlib.figure.Figure at 0x7fc192991358>"
      ]
     },
     "metadata": {},
     "output_type": "display_data"
    }
   ],
   "source": [
    "fig, ax = plt.subplots(figsize=(12, 8), dpi=80)\n",
    "colors = [\n",
    "\"#B71427\",\n",
    "\"#FFE658\",\n",
    "\"#F3FAB6\",\n",
    "\"#A8CD1B\",\n",
    "\"#CBE32D\",\n",
    "\"#005A31\",\n",
    "\"#6DBDD6\",\n",
    "\"#558C89\",\n",
    "\"#74AFAD\",\n",
    "\"#D9853B\"\n",
    "]\n",
    "#np.random.shuffle(colors)\n",
    "plt.xticks(np.arange(10), size=16)\n",
    "plt.xlabel(\"What should be\", size=20)\n",
    "plt.ylabel(\"What is recognized\", size=20)\n",
    "\n",
    "\n",
    "wrong_numbers = [np.bincount(what_is_predicted(predictions, i)) for i in range(0, 10)]\n",
    "result = []\n",
    "for i, num in enumerate(wrong_numbers):\n",
    "    bottom = 0\n",
    "    for j, error in enumerate(num):\n",
    "        if error:\n",
    "            result.append(ax.bar(i, error, bottom=bottom, color=colors[j]))\n",
    "            ax.text(i, bottom + error*0.5 - 0.1, j,\n",
    "                    verticalalignment='center',\n",
    "                    horizontalalignment='center',\n",
    "                    size=16, weight='bold')\n",
    "            bottom += error\n"
   ]
  },
  {
   "cell_type": "code",
   "execution_count": null,
   "metadata": {
    "collapsed": true
   },
   "outputs": [],
   "source": []
  }
 ],
 "metadata": {
  "kernelspec": {
   "display_name": "Python 3",
   "language": "python",
   "name": "python3"
  },
  "language_info": {
   "codemirror_mode": {
    "name": "ipython",
    "version": 3
   },
   "file_extension": ".py",
   "mimetype": "text/x-python",
   "name": "python",
   "nbconvert_exporter": "python",
   "pygments_lexer": "ipython3",
   "version": "3.5.2"
  }
 },
 "nbformat": 4,
 "nbformat_minor": 2
}
